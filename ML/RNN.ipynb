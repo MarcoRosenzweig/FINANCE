{
 "cells": [
  {
   "cell_type": "code",
   "execution_count": 191,
   "metadata": {},
   "outputs": [],
   "source": [
    "#tensorflow:\n",
    "from tensorflow.keras.preprocessing import sequence\n",
    "from tensorflow.keras.models import Sequential\n",
    "from tensorflow.keras.layers import Dense, Embedding, LSTM, Dropout\n",
    "from tensorflow.keras.datasets import imdb\n",
    "from tensorflow.keras.callbacks import EarlyStopping\n",
    "from sklearn.preprocessing import MinMaxScaler\n",
    "from tensorflow.keras.optimizers import Adam\n",
    "#standard libs\n",
    "import numpy as np\n",
    "import pandas as pd\n",
    "import matplotlib.pyplot as plt\n",
    "#own libs\n",
    "import utils\n",
    "from model import MODEL"
   ]
  },
  {
   "cell_type": "code",
   "execution_count": 238,
   "metadata": {},
   "outputs": [],
   "source": [
    "#GLOBAL VARIABLES:\n",
    "USE_PCT_CHANGE = True\n",
    "ONLY_USE_MACD = False\n",
    "USE_MACD = True\n",
    "#STYLE = \"daily\"\n",
    "STYLE = \"hourly\"\n",
    "\n",
    "TICKERS = [\"BTC-USD\"]\n",
    "#cols_available = ['Open', 'High', 'Low', 'Close', 'Adj Close', 'Volume']\n",
    "COLS = [\"Close\"]\n",
    "SEQUENCE_LENGTH = 7"
   ]
  },
  {
   "cell_type": "code",
   "execution_count": 239,
   "metadata": {},
   "outputs": [],
   "source": [
    "#functions:\n",
    "def to_sequence_target(data, seq_size, target=\"Close\", target_index=0):\n",
    "    input_dims = data.shape\n",
    "    n_series = int(input_dims[0] / seq_size)\n",
    "    x = np.empty((n_series, seq_size, input_dims[1]))\n",
    "    y = np.empty((n_series, 1))\n",
    "    for i in range(n_series):\n",
    "        try:\n",
    "            x[i] = data.values[i:i+seq_size]\n",
    "            y[i] = data[target].values[i+seq_size+1]\n",
    "        except AttributeError:\n",
    "            x[i] = data[i:i+seq_size, :]\n",
    "            y[i] = data[i+seq_size+1, target_index]\n",
    "        \n",
    "    print(\"Created X array with shape: {}\".format(x.shape))\n",
    "    print(\"Created Y array with shape: {}\".format(y.shape))\n",
    "    return x, y \n",
    "\n",
    "def to_sequence(data, seq_size):\n",
    "    input_dims = data.shape\n",
    "    n_series = int(input_dims[0] / seq_size)\n",
    "    x = np.empty((n_series, seq_size, input_dims[1]))\n",
    "    y = np.empty((n_series, input_dims[1]))\n",
    "    for i in range(n_series):\n",
    "        try:\n",
    "            x[i] = data.values[i:i+seq_size]\n",
    "            y[i] = data.values[i+seq_size+1]\n",
    "        except AttributeError:\n",
    "            x[i] = data[i:i+seq_size]\n",
    "            y[i] = data[i+seq_size+1]\n",
    "            \n",
    "    print(\"Created X array with shape: {}\".format(x.shape))\n",
    "    print(\"Created Y array with shape: {}\".format(y.shape))\n",
    "    return x, y "
   ]
  },
  {
   "cell_type": "code",
   "execution_count": 240,
   "metadata": {},
   "outputs": [
    {
     "name": "stdout",
     "output_type": "stream",
     "text": [
      "[*********************100%***********************]  1 of 1 completed\n",
      "[*********************100%***********************]  1 of 1 completed\n",
      "================================================================================\n",
      "|                                 PRICE MODEL                                  |\n",
      "|                                 Version 1.0                                  |\n",
      "|                 Authors: Patrick Lorenz &  Marco Rosenzweig                  |\n",
      "--------------------------------------------------------------------------------\n",
      "|                             ticker = ['BTC-USD']                             |\n",
      "|                            start date = 10/01/18                             |\n",
      "|                             end date = 09/29/20                              |\n",
      "|                     initial investment per ticker = 200                      |\n",
      "================================================================================\n",
      "[INIT]: Initialising model for tickers: ['BTC-USD']\n",
      "[INIT]: Successfully initialized model.\n",
      "********************************************************************************\n",
      "[TICKER]: BTC-USD\n",
      "[INFO]: No tax paid.\n",
      "--------------------------------------------------------------------------------\n",
      "[SUMMARY]: Average trade win: 1.2062232753%\n",
      "[SUMMARY]: Average trade loss: -0.5338874165%\n",
      "[SUMMARY]: Efficiency: 28.44%\n",
      "[SUMMARY]: NET WIN: -154.95\n",
      "================================================================================\n"
     ]
    },
    {
     "data": {
      "text/html": [
       "<div>\n",
       "<style scoped>\n",
       "    .dataframe tbody tr th:only-of-type {\n",
       "        vertical-align: middle;\n",
       "    }\n",
       "\n",
       "    .dataframe tbody tr th {\n",
       "        vertical-align: top;\n",
       "    }\n",
       "\n",
       "    .dataframe thead th {\n",
       "        text-align: right;\n",
       "    }\n",
       "</style>\n",
       "<table border=\"1\" class=\"dataframe\">\n",
       "  <thead>\n",
       "    <tr style=\"text-align: right;\">\n",
       "      <th></th>\n",
       "      <th>Close</th>\n",
       "      <th>MACD_GRAD</th>\n",
       "    </tr>\n",
       "    <tr>\n",
       "      <th>Datetime</th>\n",
       "      <th></th>\n",
       "      <th></th>\n",
       "    </tr>\n",
       "  </thead>\n",
       "  <tbody>\n",
       "    <tr>\n",
       "      <th>2018-10-01 15:00:00+01:00</th>\n",
       "      <td>-0.000043</td>\n",
       "      <td>3.395988</td>\n",
       "    </tr>\n",
       "    <tr>\n",
       "      <th>2018-10-01 16:00:00+01:00</th>\n",
       "      <td>-0.000308</td>\n",
       "      <td>-7.955142</td>\n",
       "    </tr>\n",
       "    <tr>\n",
       "      <th>2018-10-01 17:00:00+01:00</th>\n",
       "      <td>0.003127</td>\n",
       "      <td>0.867137</td>\n",
       "    </tr>\n",
       "    <tr>\n",
       "      <th>2018-10-01 18:00:00+01:00</th>\n",
       "      <td>0.000225</td>\n",
       "      <td>-0.237337</td>\n",
       "    </tr>\n",
       "    <tr>\n",
       "      <th>2018-10-01 19:00:00+01:00</th>\n",
       "      <td>0.000823</td>\n",
       "      <td>-0.843906</td>\n",
       "    </tr>\n",
       "    <tr>\n",
       "      <th>...</th>\n",
       "      <td>...</td>\n",
       "      <td>...</td>\n",
       "    </tr>\n",
       "    <tr>\n",
       "      <th>2020-09-29 11:00:00+01:00</th>\n",
       "      <td>0.004999</td>\n",
       "      <td>0.123725</td>\n",
       "    </tr>\n",
       "    <tr>\n",
       "      <th>2020-09-29 12:00:00+01:00</th>\n",
       "      <td>-0.000438</td>\n",
       "      <td>-0.449962</td>\n",
       "    </tr>\n",
       "    <tr>\n",
       "      <th>2020-09-29 13:00:00+01:00</th>\n",
       "      <td>-0.001230</td>\n",
       "      <td>-0.397609</td>\n",
       "    </tr>\n",
       "    <tr>\n",
       "      <th>2020-09-29 14:00:00+01:00</th>\n",
       "      <td>0.000807</td>\n",
       "      <td>-0.228350</td>\n",
       "    </tr>\n",
       "    <tr>\n",
       "      <th>2020-09-29 14:07:40+01:00</th>\n",
       "      <td>-0.000154</td>\n",
       "      <td>-0.311620</td>\n",
       "    </tr>\n",
       "  </tbody>\n",
       "</table>\n",
       "<p>17391 rows × 2 columns</p>\n",
       "</div>"
      ],
      "text/plain": [
       "                              Close  MACD_GRAD\n",
       "Datetime                                      \n",
       "2018-10-01 15:00:00+01:00 -0.000043   3.395988\n",
       "2018-10-01 16:00:00+01:00 -0.000308  -7.955142\n",
       "2018-10-01 17:00:00+01:00  0.003127   0.867137\n",
       "2018-10-01 18:00:00+01:00  0.000225  -0.237337\n",
       "2018-10-01 19:00:00+01:00  0.000823  -0.843906\n",
       "...                             ...        ...\n",
       "2020-09-29 11:00:00+01:00  0.004999   0.123725\n",
       "2020-09-29 12:00:00+01:00 -0.000438  -0.449962\n",
       "2020-09-29 13:00:00+01:00 -0.001230  -0.397609\n",
       "2020-09-29 14:00:00+01:00  0.000807  -0.228350\n",
       "2020-09-29 14:07:40+01:00 -0.000154  -0.311620\n",
       "\n",
       "[17391 rows x 2 columns]"
      ]
     },
     "execution_count": 240,
     "metadata": {},
     "output_type": "execute_result"
    }
   ],
   "source": [
    "if STYLE == \"daily\":\n",
    "    interval = \"1d\"\n",
    "    start_date = None\n",
    "elif STYLE == \"hourly\":\n",
    "    interval = \"60m\"\n",
    "    start_date = pd.to_datetime(\"today\") - pd.Timedelta(\"729d\")\n",
    "data = utils.download_data(tickers=TICKERS, start=start_date, interval=interval, value=None)\n",
    "data = data[COLS]\n",
    "if USE_MACD:\n",
    "    #insert macd analysis here:\n",
    "    macd_model = MODEL(tickers=TICKERS)\n",
    "    macd_model.get_data(start=start_date, interval=interval)\n",
    "    macd_model.eval_model()\n",
    "    data[\"MACD_GRAD\"] = macd_model.grad[TICKERS[0]]\n",
    "#drop some useless rows:\n",
    "try:\n",
    "    data = data[data[\"Volume\"] != 0]\n",
    "except KeyError:\n",
    "    pass\n",
    "if USE_PCT_CHANGE:\n",
    "    data = data.pct_change()\n",
    "    data.dropna(inplace=True)\n",
    "if ONLY_USE_MACD:\n",
    "    data = data[\"MACD_GRAD\"]\n",
    "data"
   ]
  },
  {
   "cell_type": "code",
   "execution_count": 241,
   "metadata": {},
   "outputs": [
    {
     "name": "stdout",
     "output_type": "stream",
     "text": [
      "Created X array with shape: (1967, 7, 2)\n",
      "Created Y array with shape: (1967, 2)\n",
      "Created X array with shape: (517, 7, 2)\n",
      "Created Y array with shape: (517, 2)\n"
     ]
    }
   ],
   "source": [
    "data_train = data[data.index <= \"2020-05\"]\n",
    "data_test = data[data.index > \"2020-05\"]\n",
    "#check shapes:\n",
    "if isinstance(data_train, pd.Series):\n",
    "    data_train = np.expand_dims(data_train, -1)\n",
    "if isinstance(data_test, pd.Series):\n",
    "    data_test = np.expand_dims(data_test, -1)\n",
    "#scale data:\n",
    "scaler = MinMaxScaler()\n",
    "scaler.fit(data_train)\n",
    "data_train = scaler.transform(data_train)\n",
    "data_test = scaler.transform(data_test)\n",
    "#split data:\n",
    "x_train, y_train = to_sequence(data_train, SEQUENCE_LENGTH)\n",
    "x_test, y_test = to_sequence(data_test, SEQUENCE_LENGTH)\n",
    "data_train = scaler.transform(data_train)\n",
    "data_test = scaler.transform(data_test)"
   ]
  },
  {
   "cell_type": "code",
   "execution_count": 242,
   "metadata": {
    "scrolled": false
   },
   "outputs": [
    {
     "name": "stdout",
     "output_type": "stream",
     "text": [
      "Model: \"sequential_33\"\n",
      "_________________________________________________________________\n",
      "Layer (type)                 Output Shape              Param #   \n",
      "=================================================================\n",
      "lstm_132 (LSTM)              (None, 7, 50)             10600     \n",
      "_________________________________________________________________\n",
      "dropout_132 (Dropout)        (None, 7, 50)             0         \n",
      "_________________________________________________________________\n",
      "lstm_133 (LSTM)              (None, 7, 50)             20200     \n",
      "_________________________________________________________________\n",
      "dropout_133 (Dropout)        (None, 7, 50)             0         \n",
      "_________________________________________________________________\n",
      "lstm_134 (LSTM)              (None, 7, 50)             20200     \n",
      "_________________________________________________________________\n",
      "dropout_134 (Dropout)        (None, 7, 50)             0         \n",
      "_________________________________________________________________\n",
      "lstm_135 (LSTM)              (None, 50)                20200     \n",
      "_________________________________________________________________\n",
      "dropout_135 (Dropout)        (None, 50)                0         \n",
      "_________________________________________________________________\n",
      "dense_33 (Dense)             (None, 2)                 102       \n",
      "=================================================================\n",
      "Total params: 71,302\n",
      "Trainable params: 71,302\n",
      "Non-trainable params: 0\n",
      "_________________________________________________________________\n",
      "Epoch 1/5\n",
      "492/492 [==============================] - 7s 15ms/step - loss: 0.0076 - mean_squared_error: 0.0076\n",
      "Epoch 2/5\n",
      "492/492 [==============================] - 7s 15ms/step - loss: 0.0021 - mean_squared_error: 0.0021\n",
      "Epoch 3/5\n",
      "492/492 [==============================] - 7s 15ms/step - loss: 0.0018 - mean_squared_error: 0.0018\n",
      "Epoch 4/5\n",
      "492/492 [==============================] - 8s 15ms/step - loss: 0.0015 - mean_squared_error: 0.0015\n",
      "Epoch 5/5\n",
      "492/492 [==============================] - 7s 15ms/step - loss: 0.0013 - mean_squared_error: 0.0013\n"
     ]
    }
   ],
   "source": [
    "activation_function = \"relu\" #\"softsign\" \n",
    "loss_function = \"mse\", #\"sparse_categorical_crossentropy\"\n",
    "metrics = [\"mean_squared_error\"]\n",
    "optimizer = Adam(lr=0.001, decay=1e-6)\n",
    "\n",
    "#init:\n",
    "model = Sequential()\n",
    "model.add(LSTM(units=50, \n",
    "               return_sequences=True, \n",
    "               activation=activation_function, \n",
    "               input_shape = (x_train.shape[1], x_train.shape[2])))\n",
    "model.add(Dropout(0.2))\n",
    "#hidden layers:\n",
    "model.add(LSTM(units=50, \n",
    "               return_sequences=True, \n",
    "               activation=activation_function))\n",
    "model.add(Dropout(0.2))\n",
    "model.add(LSTM(units=50, \n",
    "               return_sequences=True, \n",
    "               activation=activation_function))\n",
    "model.add(Dropout(0.2))\n",
    "model.add(LSTM(units=50, \n",
    "               activation=activation_function))\n",
    "model.add(Dropout(0.2))\n",
    "#final layer:\n",
    "model.add(Dense(units=x_train.shape[2]))\n",
    "\n",
    "\n",
    "model.compile(loss=loss_function, optimizer=optimizer, metrics=metrics)\n",
    "model.summary()\n",
    "history = model.fit(x_train, y_train, batch_size=4, epochs=5)"
   ]
  },
  {
   "cell_type": "code",
   "execution_count": 243,
   "metadata": {},
   "outputs": [
    {
     "name": "stdout",
     "output_type": "stream",
     "text": [
      "17/17 [==============================] - 0s 5ms/step - loss: 4.6514e-04 - mean_squared_error: 4.6514e-04\n"
     ]
    },
    {
     "data": {
      "image/png": "[encoded data removed]",
      "text/plain": [
       "<Figure size 288x576 with 2 Axes>"
      ]
     },
     "metadata": {
      "needs_background": "light"
     },
     "output_type": "display_data"
    }
   ],
   "source": [
    "scores = model.evaluate(x_test, y_test)\n",
    "keys = history.history.keys()\n",
    "fig, ax = plt.subplots(nrows=len(keys), figsize=(4, 4*len(keys)))\n",
    "for n, key in enumerate(keys):\n",
    "    ax[n].plot(history.history[key], label=key)\n",
    "    ax[n].legend()\n",
    "    ax[n].grid()"
   ]
  },
  {
   "cell_type": "code",
   "execution_count": 244,
   "metadata": {},
   "outputs": [
    {
     "data": {
      "image/png": "[encoded data removed]",
      "text/plain": [
       "<Figure size 432x288 with 1 Axes>"
      ]
     },
     "metadata": {
      "needs_background": "light"
     },
     "output_type": "display_data"
    }
   ],
   "source": [
    "predicted = scaler.inverse_transform(model.predict(x_test))\n",
    "real = scaler.inverse_transform(y_test)\n",
    "try:\n",
    "    labels = data.columns\n",
    "    for i, label in enumerate(labels):\n",
    "        if label == \"Volume\":\n",
    "            continue\n",
    "        plt.plot(predicted[:, i], label=label)\n",
    "        plt.plot(real[:, i], label=labels[i] + \" real\", ls=\"--\")\n",
    "except AttributeError:\n",
    "    plt.plot(predicted, label=\"prediction\")\n",
    "    plt.plot(real, label=\"real\")\n",
    "plt.grid()\n",
    "plt.legend()\n",
    "plt.show()"
   ]
  },
  {
   "cell_type": "code",
   "execution_count": null,
   "metadata": {},
   "outputs": [],
   "source": []
  }
 ],
 "metadata": {
  "kernelspec": {
   "display_name": "Python 3",
   "language": "python",
   "name": "python3"
  },
  "language_info": {
   "codemirror_mode": {
    "name": "ipython",
    "version": 3
   },
   "file_extension": ".py",
   "mimetype": "text/x-python",
   "name": "python",
   "nbconvert_exporter": "python",
   "pygments_lexer": "ipython3",
   "version": "3.7.4"
  }
 },
 "nbformat": 4,
 "nbformat_minor": 2
}
