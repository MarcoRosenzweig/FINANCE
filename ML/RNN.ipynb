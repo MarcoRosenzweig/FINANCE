{
 "cells": [
  {
   "cell_type": "code",
   "execution_count": 191,
   "metadata": {},
   "outputs": [],
   "source": [
    "#tensorflow:\n",
    "from tensorflow.keras.preprocessing import sequence\n",
    "from tensorflow.keras.models import Sequential\n",
    "from tensorflow.keras.layers import Dense, Embedding, LSTM, Dropout\n",
    "from tensorflow.keras.datasets import imdb\n",
    "from tensorflow.keras.callbacks import EarlyStopping\n",
    "from sklearn.preprocessing import MinMaxScaler\n",
    "from tensorflow.keras.optimizers import Adam\n",
    "#standard libs\n",
    "import numpy as np\n",
    "import pandas as pd\n",
    "import matplotlib.pyplot as plt\n",
    "#own libs\n",
    "import utils\n",
    "from model import MODEL"
   ]
  },
  {
   "cell_type": "code",
   "execution_count": 331,
   "metadata": {},
   "outputs": [],
   "source": [
    "#GLOBAL VARIABLES:\n",
    "USE_PCT_CHANGE = False\n",
    "ONLY_USE_MACD = True\n",
    "USE_MACD = True\n",
    "#STYLE = \"daily\"\n",
    "STYLE = \"hourly\"\n",
    "\n",
    "TICKERS = [\"BTC-USD\"]\n",
    "#cols_available = ['Open', 'High', 'Low', 'Close', 'Adj Close', 'Volume']\n",
    "COLS = [\"Close\"]\n",
    "SEQUENCE_LENGTH = 12"
   ]
  },
  {
   "cell_type": "code",
   "execution_count": 332,
   "metadata": {},
   "outputs": [],
   "source": [
    "#functions:\n",
    "def to_sequence_target(data, seq_size, target=\"Close\", target_index=0):\n",
    "    input_dims = data.shape\n",
    "    n_series = int(input_dims[0] / seq_size)\n",
    "    x = np.empty((n_series, seq_size, input_dims[1]))\n",
    "    y = np.empty((n_series, 1))\n",
    "    for i in range(n_series):\n",
    "        try:\n",
    "            x[i] = data.values[i:i+seq_size]\n",
    "            y[i] = data[target].values[i+seq_size+1]\n",
    "        except AttributeError:\n",
    "            x[i] = data[i:i+seq_size, :]\n",
    "            y[i] = data[i+seq_size+1, target_index]\n",
    "        \n",
    "    print(\"Created X array with shape: {}\".format(x.shape))\n",
    "    print(\"Created Y array with shape: {}\".format(y.shape))\n",
    "    return x, y \n",
    "\n",
    "def to_sequence(data, seq_size):\n",
    "    input_dims = data.shape\n",
    "    n_series = int(input_dims[0] / seq_size)\n",
    "    x = np.empty((n_series, seq_size, input_dims[1]))\n",
    "    y = np.empty((n_series, input_dims[1]))\n",
    "    for i in range(n_series):\n",
    "        try:\n",
    "            x[i] = data.values[i:i+seq_size]\n",
    "            y[i] = data.values[i+seq_size+1]\n",
    "        except AttributeError:\n",
    "            x[i] = data[i:i+seq_size]\n",
    "            y[i] = data[i+seq_size+1]\n",
    "            \n",
    "    print(\"Created X array with shape: {}\".format(x.shape))\n",
    "    print(\"Created Y array with shape: {}\".format(y.shape))\n",
    "    return x, y "
   ]
  },
  {
   "cell_type": "code",
   "execution_count": 333,
   "metadata": {},
   "outputs": [
    {
     "name": "stdout",
     "output_type": "stream",
     "text": [
      "[*********************100%***********************]  1 of 1 completed\n",
      "[*********************100%***********************]  1 of 1 completed\n",
      "================================================================================\n",
      "|                                 PRICE MODEL                                  |\n",
      "|                                 Version 1.0                                  |\n",
      "|                 Authors: Patrick Lorenz &  Marco Rosenzweig                  |\n",
      "--------------------------------------------------------------------------------\n",
      "|                             ticker = ['BTC-USD']                             |\n",
      "|                            start date = 10/01/18                             |\n",
      "|                             end date = 09/29/20                              |\n",
      "|                     initial investment per ticker = 200                      |\n",
      "================================================================================\n",
      "[INIT]: Initialising model for tickers: ['BTC-USD']\n",
      "[INIT]: Successfully initialized model.\n",
      "********************************************************************************\n",
      "[TICKER]: BTC-USD\n",
      "[INFO]: No tax paid.\n",
      "--------------------------------------------------------------------------------\n",
      "[SUMMARY]: Average trade win: 1.2062232753%\n",
      "[SUMMARY]: Average trade loss: -0.5338874165%\n",
      "[SUMMARY]: Efficiency: 28.44%\n",
      "[SUMMARY]: NET WIN: -154.95\n",
      "================================================================================\n"
     ]
    },
    {
     "data": {
      "text/plain": [
       "Datetime\n",
       "2018-10-01 14:00:00+01:00   -0.017855\n",
       "2018-10-01 15:00:00+01:00   -0.078491\n",
       "2018-10-01 16:00:00+01:00    0.545919\n",
       "2018-10-01 17:00:00+01:00    1.019305\n",
       "2018-10-01 18:00:00+01:00    0.777386\n",
       "                               ...   \n",
       "2020-09-29 11:00:00+01:00    4.577380\n",
       "2020-09-29 12:00:00+01:00    2.517733\n",
       "2020-09-29 13:00:00+01:00    0.925631\n",
       "2020-09-29 14:00:00+01:00    0.286805\n",
       "2020-09-29 14:34:30+01:00    0.220639\n",
       "Name: MACD_GRAD, Length: 17392, dtype: float64"
      ]
     },
     "execution_count": 333,
     "metadata": {},
     "output_type": "execute_result"
    }
   ],
   "source": [
    "if STYLE == \"daily\":\n",
    "    interval = \"1d\"\n",
    "    start_date = None\n",
    "elif STYLE == \"hourly\":\n",
    "    interval = \"60m\"\n",
    "    start_date = pd.to_datetime(\"today\") - pd.Timedelta(\"729d\")\n",
    "data = utils.download_data(tickers=TICKERS, start=start_date, interval=interval, value=None)\n",
    "data = data[COLS]\n",
    "if USE_MACD:\n",
    "    #insert macd analysis here:\n",
    "    macd_model = MODEL(tickers=TICKERS)\n",
    "    macd_model.get_data(start=start_date, interval=interval)\n",
    "    macd_model.eval_model()\n",
    "    data[\"MACD_GRAD\"] = macd_model.grad[TICKERS[0]]\n",
    "#drop some useless rows:\n",
    "try:\n",
    "    data = data[data[\"Volume\"] != 0]\n",
    "except KeyError:\n",
    "    pass\n",
    "if USE_PCT_CHANGE:\n",
    "    data = data.pct_change()\n",
    "    data.dropna(inplace=True)\n",
    "if ONLY_USE_MACD:\n",
    "    data = data[\"MACD_GRAD\"]\n",
    "data"
   ]
  },
  {
   "cell_type": "code",
   "execution_count": 334,
   "metadata": {},
   "outputs": [
    {
     "name": "stdout",
     "output_type": "stream",
     "text": [
      "Created X array with shape: (1147, 12, 1)\n",
      "Created Y array with shape: (1147, 1)\n",
      "Created X array with shape: (301, 12, 1)\n",
      "Created Y array with shape: (301, 1)\n"
     ]
    }
   ],
   "source": [
    "data_train = data[data.index <= \"2020-05\"]\n",
    "data_test = data[data.index > \"2020-05\"]\n",
    "#check shapes:\n",
    "if isinstance(data_train, pd.Series):\n",
    "    data_train = np.expand_dims(data_train, -1)\n",
    "if isinstance(data_test, pd.Series):\n",
    "    data_test = np.expand_dims(data_test, -1)\n",
    "#scale data:\n",
    "scaler = MinMaxScaler()\n",
    "scaler.fit(data_train)\n",
    "data_train = scaler.transform(data_train)\n",
    "data_test = scaler.transform(data_test)\n",
    "#split data:\n",
    "x_train, y_train = to_sequence(data_train, SEQUENCE_LENGTH)\n",
    "x_test, y_test = to_sequence(data_test, SEQUENCE_LENGTH)\n",
    "data_train = scaler.transform(data_train)\n",
    "data_test = scaler.transform(data_test)"
   ]
  },
  {
   "cell_type": "code",
   "execution_count": 338,
   "metadata": {
    "scrolled": false
   },
   "outputs": [
    {
     "name": "stdout",
     "output_type": "stream",
     "text": [
      "Model: \"sequential_52\"\n",
      "_________________________________________________________________\n",
      "Layer (type)                 Output Shape              Param #   \n",
      "=================================================================\n",
      "lstm_159 (LSTM)              (None, 12)                672       \n",
      "_________________________________________________________________\n",
      "dense_52 (Dense)             (None, 1)                 13        \n",
      "=================================================================\n",
      "Total params: 685\n",
      "Trainable params: 685\n",
      "Non-trainable params: 0\n",
      "_________________________________________________________________\n",
      "Epoch 1/20\n",
      "96/96 [==============================] - 1s 6ms/step - loss: 0.0824 - mean_squared_error: 0.0824\n",
      "Epoch 2/20\n",
      "96/96 [==============================] - 1s 6ms/step - loss: 3.8447e-04 - mean_squared_error: 3.8447e-04\n",
      "Epoch 3/20\n",
      "96/96 [==============================] - 1s 6ms/step - loss: 3.7803e-04 - mean_squared_error: 3.7803e-04\n",
      "Epoch 4/20\n",
      "96/96 [==============================] - 1s 6ms/step - loss: 3.8298e-04 - mean_squared_error: 3.8298e-04\n",
      "Epoch 5/20\n",
      "96/96 [==============================] - 1s 6ms/step - loss: 3.7872e-04 - mean_squared_error: 3.7872e-04\n",
      "Epoch 6/20\n",
      "96/96 [==============================] - 1s 6ms/step - loss: 3.8026e-04 - mean_squared_error: 3.8026e-04\n",
      "Epoch 7/20\n",
      "96/96 [==============================] - 1s 6ms/step - loss: 3.7458e-04 - mean_squared_error: 3.7458e-04\n",
      "Epoch 8/20\n",
      "96/96 [==============================] - 1s 6ms/step - loss: 3.8134e-04 - mean_squared_error: 3.8134e-04\n",
      "Epoch 9/20\n",
      "96/96 [==============================] - 1s 6ms/step - loss: 3.7566e-04 - mean_squared_error: 3.7566e-04\n",
      "Epoch 10/20\n",
      "96/96 [==============================] - 1s 6ms/step - loss: 3.8122e-04 - mean_squared_error: 3.8122e-04\n",
      "Epoch 11/20\n",
      "96/96 [==============================] - 1s 6ms/step - loss: 3.7418e-04 - mean_squared_error: 3.7418e-04\n",
      "Epoch 12/20\n",
      "96/96 [==============================] - 1s 6ms/step - loss: 3.7720e-04 - mean_squared_error: 3.7720e-04\n",
      "Epoch 13/20\n",
      "96/96 [==============================] - 1s 6ms/step - loss: 3.7570e-04 - mean_squared_error: 3.7570e-04\n",
      "Epoch 14/20\n",
      "96/96 [==============================] - 1s 6ms/step - loss: 3.8183e-04 - mean_squared_error: 3.8183e-04\n",
      "Epoch 15/20\n",
      "96/96 [==============================] - 1s 6ms/step - loss: 3.7116e-04 - mean_squared_error: 3.7116e-04\n",
      "Epoch 16/20\n",
      "96/96 [==============================] - 1s 6ms/step - loss: 3.7674e-04 - mean_squared_error: 3.7674e-04\n",
      "Epoch 17/20\n",
      "96/96 [==============================] - 1s 6ms/step - loss: 3.7967e-04 - mean_squared_error: 3.7967e-04\n",
      "Epoch 18/20\n",
      "96/96 [==============================] - 1s 6ms/step - loss: 3.6396e-04 - mean_squared_error: 3.6396e-04\n",
      "Epoch 19/20\n",
      "96/96 [==============================] - 1s 6ms/step - loss: 3.7546e-04 - mean_squared_error: 3.7546e-04\n",
      "Epoch 20/20\n",
      "96/96 [==============================] - 1s 6ms/step - loss: 3.6089e-04 - mean_squared_error: 3.6089e-04\n"
     ]
    }
   ],
   "source": [
    "activation_function = \"relu\" #\"softsign\" \n",
    "loss_function = \"mse\", #\"sparse_categorical_crossentropy\"\n",
    "metrics = [\"mean_squared_error\"]\n",
    "optimizer = Adam(lr=0.001, decay=1e-6)\n",
    "USE_RECURRENCE = False\n",
    "USE_DROPOUT = False\n",
    "USE_HIDDEN_LAYERS = False\n",
    "\n",
    "#init:\n",
    "model = Sequential()\n",
    "#first layer:\n",
    "model.add(LSTM(units=SEQUENCE_LENGTH, \n",
    "               return_sequences=USE_RECURRENCE, \n",
    "               activation=activation_function, \n",
    "               input_shape = (x_train.shape[1], x_train.shape[2])))\n",
    "if USE_DROPOUT:\n",
    "    model.add(Dropout(0.2))\n",
    "\n",
    "#hidden layers:\n",
    "if USE_HIDDEN_LAYERS:\n",
    "    model.add(LSTM(units=50, \n",
    "                   return_sequences=True, \n",
    "                   activation=activation_function))\n",
    "    if USE_DROPOUT:\n",
    "        model.add(Dropout(0.2))\n",
    "    model.add(LSTM(units=50, \n",
    "                   return_sequences=True, \n",
    "                   activation=activation_function))\n",
    "    if USE_DROPOUT:\n",
    "        model.add(Dropout(0.2))\n",
    "\n",
    "    model.add(LSTM(units=50, \n",
    "                   activation=activation_function))\n",
    "    if USE_DROPOUT:\n",
    "        model.add(Dropout(0.2))\n",
    "#final layer:\n",
    "if USE_RECURRENCE and not USE_HIDDEN_LAYERS:\n",
    "    #this must be included to get the right output dimension!\n",
    "    model.add(LSTM(units=50, \n",
    "               activation=activation_function))\n",
    "model.add(Dense(units=x_train.shape[2]))\n",
    "\n",
    "model.compile(loss=loss_function, optimizer=optimizer, metrics=metrics)\n",
    "model.summary()\n",
    "history = model.fit(x_train, y_train, batch_size=SEQUENCE_LENGTH, epochs=20)"
   ]
  },
  {
   "cell_type": "code",
   "execution_count": 339,
   "metadata": {},
   "outputs": [
    {
     "name": "stdout",
     "output_type": "stream",
     "text": [
      "10/10 [==============================] - 0s 3ms/step - loss: 0.0030 - mean_squared_error: 0.0030    \n"
     ]
    },
    {
     "data": {
      "image/png": "[encoded data removed]",
      "text/plain": [
       "<Figure size 288x576 with 2 Axes>"
      ]
     },
     "metadata": {
      "needs_background": "light"
     },
     "output_type": "display_data"
    }
   ],
   "source": [
    "scores = model.evaluate(x_test, y_test)\n",
    "keys = history.history.keys()\n",
    "fig, ax = plt.subplots(nrows=len(keys), figsize=(4, 4*len(keys)))\n",
    "for n, key in enumerate(keys):\n",
    "    ax[n].semilogy(history.history[key])\n",
    "    ax[n].set_xlabel(\"Epoch\")\n",
    "    ax[n].set_ylabel(key)\n",
    "    ax[n].grid()"
   ]
  },
  {
   "cell_type": "code",
   "execution_count": 340,
   "metadata": {},
   "outputs": [
    {
     "data": {
      "image/png": "[encoded data removed]",
      "text/plain": [
       "<Figure size 432x288 with 1 Axes>"
      ]
     },
     "metadata": {
      "needs_background": "light"
     },
     "output_type": "display_data"
    }
   ],
   "source": [
    "predicted = scaler.inverse_transform(model.predict(x_test))\n",
    "real = scaler.inverse_transform(y_test)\n",
    "try:\n",
    "    labels = data.columns\n",
    "    for i, label in enumerate(labels):\n",
    "        if label == \"Volume\":\n",
    "            continue\n",
    "        plt.plot(predicted[:, i], label=label)\n",
    "        plt.plot(real[:, i], label=labels[i] + \" real\", ls=\"--\")\n",
    "except AttributeError:\n",
    "    plt.plot(predicted, label=\"prediction\")\n",
    "    plt.plot(real, label=\"real\")\n",
    "plt.grid()\n",
    "plt.legend()\n",
    "plt.show()"
   ]
  }
 ],
 "metadata": {
  "kernelspec": {
   "display_name": "Python 3",
   "language": "python",
   "name": "python3"
  },
  "language_info": {
   "codemirror_mode": {
    "name": "ipython",
    "version": 3
   },
   "file_extension": ".py",
   "mimetype": "text/x-python",
   "name": "python",
   "nbconvert_exporter": "python",
   "pygments_lexer": "ipython3",
   "version": "3.7.4"
  }
 },
 "nbformat": 4,
 "nbformat_minor": 2
}
