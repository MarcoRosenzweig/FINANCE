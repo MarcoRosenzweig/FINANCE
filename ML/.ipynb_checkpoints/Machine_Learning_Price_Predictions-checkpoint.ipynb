{
 "cells": [
  {
   "cell_type": "code",
   "execution_count": 480,
   "metadata": {},
   "outputs": [
    {
     "name": "stdout",
     "output_type": "stream",
     "text": [
      "2.1.0\n",
      "1.18.1\n",
      "0.1.54\n"
     ]
    }
   ],
   "source": [
    "import tensorflow as tf\n",
    "import numpy as np\n",
    "from tensorflow import keras\n",
    "import matplotlib.pyplot as plt\n",
    "import yfinance as yf\n",
    "from sklearn.preprocessing import MinMaxScaler\n",
    "from keras.models import Sequential\n",
    "from keras.layers.recurrent import LSTM\n",
    "from keras.layers.core import Dense, Activation, Dropout\n",
    "from sklearn.metrics import mean_squared_error\n",
    "import math\n",
    "\n",
    "plt.style.use('ggplot')\n",
    "\n",
    "print(tf.__version__)\n",
    "print(np.__version__)\n",
    "print(yf.__version__)"
   ]
  },
  {
   "cell_type": "code",
   "execution_count": 449,
   "metadata": {},
   "outputs": [],
   "source": [
    "def plot_history(result):\n",
    "    history = result.history\n",
    "    fig = plt.figure(figsize=(6, 6))\n",
    "    ax1 = plt.subplot(211)\n",
    "    ax1.plot(history['loss'], label='loss')\n",
    "    ax1.plot(history['val_loss'], label='val_loss')\n",
    "    ax1.legend()\n",
    "    ax1.grid()\n",
    "    \n",
    "    ax2 = plt.subplot(212, sharex=ax1)\n",
    "    ax2.plot(history['accuracy'], label='accuracy')\n",
    "    ax2.plot(history['val_accuracy'], label='val_accuracy')\n",
    "    ax2.legend()\n",
    "    ax2.grid()"
   ]
  },
  {
   "cell_type": "code",
   "execution_count": 164,
   "metadata": {},
   "outputs": [
    {
     "name": "stdout",
     "output_type": "stream",
     "text": [
      "[*********************100%***********************]  1 of 1 completed\n"
     ]
    },
    {
     "data": {
      "text/plain": [
       "Datetime\n",
       "2020-05-02 11:00:00+01:00    8875.433594\n",
       "2020-05-02 12:00:00+01:00    8902.716797\n",
       "2020-05-02 13:00:00+01:00    8900.388672\n",
       "2020-05-02 14:00:00+01:00    8903.470703\n",
       "2020-05-02 14:51:28+01:00    8903.750000\n",
       "Name: Close, dtype: float64"
      ]
     },
     "execution_count": 164,
     "metadata": {},
     "output_type": "execute_result"
    }
   ],
   "source": [
    "btc_close = yf.download('BTC-USD', start='2018-05-04', interval='60m')['Close']\n",
    "btc_close.tail()"
   ]
  },
  {
   "cell_type": "code",
   "execution_count": 172,
   "metadata": {},
   "outputs": [
    {
     "data": {
      "image/png": "[encoded data removed]",
      "text/plain": [
       "<Figure size 432x288 with 1 Axes>"
      ]
     },
     "metadata": {
      "needs_background": "light"
     },
     "output_type": "display_data"
    }
   ],
   "source": [
    "#reshaping to n_data, 1:\n",
    "index = btc_close.index\n",
    "btc = btc_close.values.reshape(len(btc_close), 1)\n",
    "#btc is now numpy array!\n",
    "plt.plot(btc)\n",
    "plt.show()"
   ]
  },
  {
   "cell_type": "code",
   "execution_count": 173,
   "metadata": {},
   "outputs": [],
   "source": [
    "#normalize data\n",
    "scaler = MinMaxScaler(feature_range=(0,1))"
   ]
  },
  {
   "cell_type": "code",
   "execution_count": 517,
   "metadata": {},
   "outputs": [],
   "source": [
    "btc_normalized = scaler.fit_transform(btc)"
   ]
  },
  {
   "cell_type": "code",
   "execution_count": 518,
   "metadata": {},
   "outputs": [],
   "source": [
    "#split data into train and test\n",
    "train_size = int(len(btc_normalized)* 0.8)\n",
    "test_size = len(btc_normalized) - train_size\n",
    "btc_train, btc_test = btc_normalized[0:train_size], btc_normalized[train_size:len(btc_normalized)]"
   ]
  },
  {
   "cell_type": "code",
   "execution_count": 520,
   "metadata": {},
   "outputs": [
    {
     "name": "stdout",
     "output_type": "stream",
     "text": [
      "(13923, 1) (3481, 1)\n"
     ]
    }
   ],
   "source": [
    "print(btc_train.shape, btc_test.shape)"
   ]
  },
  {
   "cell_type": "code",
   "execution_count": 521,
   "metadata": {},
   "outputs": [],
   "source": [
    "def create_sets(dataset, n_in, n_out):\n",
    "    max_range = dataset.shape[0] - n_in - 1\n",
    "    X = np.empty([max_range, n_in])\n",
    "    Y = np.empty([max_range, n_out])\n",
    "    for i in range(max_range):\n",
    "        X[i] = dataset[i : (i + n_in), 0]\n",
    "        Y[i] = dataset[(i + n_in) : (i + n_in + n_out), 0]\n",
    "    return np.array(X), np.array(Y)"
   ]
  },
  {
   "cell_type": "code",
   "execution_count": 524,
   "metadata": {},
   "outputs": [],
   "source": [
    "n_in = 14\n",
    "n_out = 1\n",
    "n_features = 1 #currently only price\n",
    "trainX, trainY = create_sets(btc_train, n_in, n_out)\n",
    "trainX = np.expand_dims(trainX, -1)"
   ]
  },
  {
   "cell_type": "code",
   "execution_count": 525,
   "metadata": {},
   "outputs": [
    {
     "name": "stdout",
     "output_type": "stream",
     "text": [
      "Model: \"sequential_53\"\n",
      "_________________________________________________________________\n",
      "Layer (type)                 Output Shape              Param #   \n",
      "=================================================================\n",
      "lstm_58 (LSTM)               (None, 4)                 96        \n",
      "_________________________________________________________________\n",
      "dense_47 (Dense)             (None, 1)                 5         \n",
      "=================================================================\n",
      "Total params: 101\n",
      "Trainable params: 101\n",
      "Non-trainable params: 0\n",
      "_________________________________________________________________\n",
      "Epoch 1/20\n",
      "13908/13908 [==============================] - 10s 701us/step - loss: 0.1296\n",
      "Epoch 2/20\n",
      "13908/13908 [==============================] - 9s 638us/step - loss: 0.0498\n",
      "Epoch 3/20\n",
      "13908/13908 [==============================] - 9s 621us/step - loss: 0.0479\n",
      "Epoch 4/20\n",
      "13908/13908 [==============================] - 9s 648us/step - loss: 0.0479\n",
      "Epoch 5/20\n",
      "13908/13908 [==============================] - 8s 598us/step - loss: 0.0479\n",
      "Epoch 6/20\n",
      "13908/13908 [==============================] - 9s 621us/step - loss: 0.0479\n",
      "Epoch 7/20\n",
      "13908/13908 [==============================] - 9s 663us/step - loss: 0.0479\n",
      "Epoch 8/20\n",
      "13908/13908 [==============================] - 9s 642us/step - loss: 0.0479\n",
      "Epoch 9/20\n",
      "13908/13908 [==============================] - 8s 597us/step - loss: 0.0479\n",
      "Epoch 10/20\n",
      "13908/13908 [==============================] - 9s 663us/step - loss: 0.0479\n",
      "Epoch 11/20\n",
      "13908/13908 [==============================] - 9s 643us/step - loss: 0.0479\n",
      "Epoch 12/20\n",
      "13908/13908 [==============================] - 9s 641us/step - loss: 0.0479\n",
      "Epoch 13/20\n",
      "13908/13908 [==============================] - 9s 640us/step - loss: 0.0479\n",
      "Epoch 14/20\n",
      "13908/13908 [==============================] - 9s 644us/step - loss: 0.0479 \n",
      "Epoch 15/20\n",
      "13908/13908 [==============================] - 9s 663us/step - loss: 0.0479\n",
      "Epoch 16/20\n",
      "13908/13908 [==============================] - 10s 707us/step - loss: 0.0479\n",
      "Epoch 17/20\n",
      "13908/13908 [==============================] - 10s 720us/step - loss: 0.0479\n",
      "Epoch 18/20\n",
      "13908/13908 [==============================] - 9s 622us/step - loss: 0.0479\n",
      "Epoch 19/20\n",
      "13908/13908 [==============================] - 8s 601us/step - loss: 0.0479\n",
      "Epoch 20/20\n",
      "13908/13908 [==============================] - 9s 634us/step - loss: 0.0479\n"
     ]
    }
   ],
   "source": [
    "#build the model\n",
    "model = Sequential()\n",
    "model.add(LSTM(4, input_shape=(n_in, n_features), activation='relu'))\n",
    "model.add(Dense(n_out))\n",
    "model.compile(loss='mse', optimizer='adam')\n",
    "model.summary()\n",
    "#fit the model\n",
    "res = model.fit(trainX, trainY, epochs=20, batch_size=32)"
   ]
  },
  {
   "cell_type": "code",
   "execution_count": 506,
   "metadata": {},
   "outputs": [],
   "source": [
    "testX, testY = create_sets(btc_test, n_in, n_out)\n",
    "testX = np.expand_dims(testX, -1)"
   ]
  },
  {
   "cell_type": "code",
   "execution_count": 514,
   "metadata": {},
   "outputs": [],
   "source": [
    "test_predictions = scaler.inverse_transform(model.predict(testX))\n",
    "train_predictions = scaler.inverse_transform(model.predict(trainX))"
   ]
  },
  {
   "cell_type": "code",
   "execution_count": 515,
   "metadata": {},
   "outputs": [
    {
     "data": {
      "text/plain": [
       "(3466, 1)"
      ]
     },
     "execution_count": 515,
     "metadata": {},
     "output_type": "execute_result"
    }
   ],
   "source": [
    "test_predictions.shape"
   ]
  },
  {
   "cell_type": "code",
   "execution_count": 516,
   "metadata": {},
   "outputs": [
    {
     "data": {
      "image/png": "[encoded data removed]",
      "text/plain": [
       "<Figure size 864x360 with 2 Axes>"
      ]
     },
     "metadata": {},
     "output_type": "display_data"
    }
   ],
   "source": [
    "fig, ax = plt.subplots(constrained_layout=True, figsize=(12, 5))\n",
    "ax.plot(test_predictions, label='Test Predictions')\n",
    "ax.plot(scaler.inverse_transform(btc_test), label='Actual Data')\n",
    "ax.legend()\n",
    "ax2 = ax.twinx()\n",
    "\n",
    "#ax2.plot(test_predictions - scaler.inverse_transform(btc_test))"
   ]
  },
  {
   "cell_type": "code",
   "execution_count": 321,
   "metadata": {},
   "outputs": [
    {
     "name": "stdout",
     "output_type": "stream",
     "text": [
      "(13915, 7) (13915,)\n",
      "(13915, 7, 1) (13915,)\n"
     ]
    }
   ],
   "source": [
    "def create_ts(ds, series):\n",
    "    X, Y =[], []\n",
    "    max_range = len(ds) - series - 1\n",
    "    for i in range(max_range):\n",
    "        item = ds[i:(i+series), 0]\n",
    "        X.append(item)\n",
    "        Y.append(ds[i+series, 0])\n",
    "    return np.array(X), np.array(Y)\n",
    "\n",
    "series = 7\n",
    "\n",
    "trainX, trainY = create_ts(btc_train, series)\n",
    "testX, testY = create_ts(btc_test, series)\n",
    "print(trainX.shape, trainY.shape)\n",
    "#reshape into  LSTM format - samples, steps, features\n",
    "trainX = np.reshape(trainX, (trainX.shape[0], trainX.shape[1], 1))\n",
    "testX = np.reshape(testX, (testX.shape[0], testX.shape[1], 1))\n",
    "print(trainX.shape, trainY.shape)"
   ]
  },
  {
   "cell_type": "code",
   "execution_count": 205,
   "metadata": {
    "scrolled": true
   },
   "outputs": [
    {
     "name": "stdout",
     "output_type": "stream",
     "text": [
      "Epoch 1/100\n",
      "12174/12174 [==============================] - 2s 204us/step - loss: 0.0757\n",
      "Epoch 2/100\n",
      "12174/12174 [==============================] - 2s 147us/step - loss: 0.0013\n",
      "Epoch 3/100\n",
      "12174/12174 [==============================] - 2s 148us/step - loss: 4.0936e-04\n",
      "Epoch 4/100\n",
      "12174/12174 [==============================] - 2s 148us/step - loss: 3.3157e-04\n",
      "Epoch 5/100\n",
      "12174/12174 [==============================] - 2s 147us/step - loss: 2.8544e-04\n",
      "Epoch 6/100\n",
      "12174/12174 [==============================] - 2s 151us/step - loss: 2.4923e-04\n",
      "Epoch 7/100\n",
      "12174/12174 [==============================] - 2s 148us/step - loss: 2.1427e-04\n",
      "Epoch 8/100\n",
      "12174/12174 [==============================] - 2s 152us/step - loss: 1.8817e-04\n",
      "Epoch 9/100\n",
      "12174/12174 [==============================] - 2s 148us/step - loss: 1.6746e-04\n",
      "Epoch 10/100\n",
      "12174/12174 [==============================] - 2s 162us/step - loss: 1.4803e-04\n",
      "Epoch 11/100\n",
      "12174/12174 [==============================] - 2s 137us/step - loss: 1.3425e-04\n",
      "Epoch 12/100\n",
      "12174/12174 [==============================] - 2s 133us/step - loss: 1.2320e-04\n",
      "Epoch 13/100\n",
      "12174/12174 [==============================] - 2s 134us/step - loss: 1.1385e-04\n",
      "Epoch 14/100\n",
      "12174/12174 [==============================] - 2s 132us/step - loss: 1.0526e-04\n",
      "Epoch 15/100\n",
      "12174/12174 [==============================] - 2s 134us/step - loss: 9.7529e-05\n",
      "Epoch 16/100\n",
      "12174/12174 [==============================] - 2s 133us/step - loss: 8.9784e-05\n",
      "Epoch 17/100\n",
      "12174/12174 [==============================] - 2s 176us/step - loss: 8.7329e-05\n",
      "Epoch 18/100\n",
      "12174/12174 [==============================] - 2s 136us/step - loss: 8.1119e-05\n",
      "Epoch 19/100\n",
      "12174/12174 [==============================] - 2s 133us/step - loss: 7.6372e-05\n",
      "Epoch 20/100\n",
      "12174/12174 [==============================] - 2s 132us/step - loss: 7.6137e-05\n",
      "Epoch 21/100\n",
      "12174/12174 [==============================] - 2s 128us/step - loss: 7.1902e-05\n",
      "Epoch 22/100\n",
      "12174/12174 [==============================] - 2s 130us/step - loss: 6.9867e-05\n",
      "Epoch 23/100\n",
      "12174/12174 [==============================] - 2s 127us/step - loss: 6.7838e-05\n",
      "Epoch 24/100\n",
      "12174/12174 [==============================] - 2s 127us/step - loss: 6.5587e-05\n",
      "Epoch 25/100\n",
      "12174/12174 [==============================] - 2s 128us/step - loss: 6.3857e-05\n",
      "Epoch 26/100\n",
      "12174/12174 [==============================] - 2s 128us/step - loss: 6.2165e-05\n",
      "Epoch 27/100\n",
      "12174/12174 [==============================] - 2s 128us/step - loss: 5.9324e-05\n",
      "Epoch 28/100\n",
      "12174/12174 [==============================] - 2s 129us/step - loss: 5.9064e-05\n",
      "Epoch 29/100\n",
      "12174/12174 [==============================] - 2s 129us/step - loss: 5.8899e-05\n",
      "Epoch 30/100\n",
      "12174/12174 [==============================] - 2s 128us/step - loss: 5.6695e-05\n",
      "Epoch 31/100\n",
      "12174/12174 [==============================] - 2s 128us/step - loss: 5.5609e-05\n",
      "Epoch 32/100\n",
      "12174/12174 [==============================] - 2s 128us/step - loss: 5.5084e-05\n",
      "Epoch 33/100\n",
      "12174/12174 [==============================] - 2s 128us/step - loss: 5.3231e-05\n",
      "Epoch 34/100\n",
      "12174/12174 [==============================] - 2s 128us/step - loss: 5.3130e-05\n",
      "Epoch 35/100\n",
      "12174/12174 [==============================] - 2s 128us/step - loss: 5.1389e-05\n",
      "Epoch 36/100\n",
      "12174/12174 [==============================] - 2s 129us/step - loss: 4.9980e-05\n",
      "Epoch 37/100\n",
      "12174/12174 [==============================] - 2s 128us/step - loss: 4.9007e-05\n",
      "Epoch 38/100\n",
      "12174/12174 [==============================] - 2s 129us/step - loss: 4.7531e-05\n",
      "Epoch 39/100\n",
      "12174/12174 [==============================] - 2s 129us/step - loss: 4.6152e-05\n",
      "Epoch 40/100\n",
      "12174/12174 [==============================] - 2s 128us/step - loss: 4.5710e-05\n",
      "Epoch 41/100\n",
      "12174/12174 [==============================] - 2s 128us/step - loss: 4.5441e-05\n",
      "Epoch 42/100\n",
      "12174/12174 [==============================] - 2s 128us/step - loss: 4.4904e-05\n",
      "Epoch 43/100\n",
      "12174/12174 [==============================] - 2s 128us/step - loss: 4.3008e-05\n",
      "Epoch 44/100\n",
      "12174/12174 [==============================] - 2s 129us/step - loss: 4.2285e-05\n",
      "Epoch 45/100\n",
      "12174/12174 [==============================] - 2s 129us/step - loss: 4.2560e-05\n",
      "Epoch 46/100\n",
      "12174/12174 [==============================] - 2s 128us/step - loss: 4.1162e-05\n",
      "Epoch 47/100\n",
      "12174/12174 [==============================] - 2s 129us/step - loss: 4.0689e-05\n",
      "Epoch 48/100\n",
      "12174/12174 [==============================] - 2s 128us/step - loss: 4.0627e-05\n",
      "Epoch 49/100\n",
      "12174/12174 [==============================] - 2s 129us/step - loss: 4.0232e-05\n",
      "Epoch 50/100\n",
      "12174/12174 [==============================] - 2s 128us/step - loss: 3.8988e-05\n",
      "Epoch 51/100\n",
      "12174/12174 [==============================] - 2s 128us/step - loss: 4.1457e-05\n",
      "Epoch 52/100\n",
      "12174/12174 [==============================] - 2s 128us/step - loss: 3.8815e-05\n",
      "Epoch 53/100\n",
      "12174/12174 [==============================] - 2s 131us/step - loss: 3.8858e-05\n",
      "Epoch 54/100\n",
      "12174/12174 [==============================] - 2s 131us/step - loss: 3.8280e-05\n",
      "Epoch 55/100\n",
      "12174/12174 [==============================] - 2s 128us/step - loss: 3.7638e-05\n",
      "Epoch 56/100\n",
      "12174/12174 [==============================] - 2s 129us/step - loss: 3.8190e-05\n",
      "Epoch 57/100\n",
      "12174/12174 [==============================] - 2s 131us/step - loss: 3.7120e-05\n",
      "Epoch 58/100\n",
      "12174/12174 [==============================] - 2s 129us/step - loss: 3.6871e-05\n",
      "Epoch 59/100\n",
      "12174/12174 [==============================] - 2s 129us/step - loss: 3.6978e-05\n",
      "Epoch 60/100\n",
      "12174/12174 [==============================] - 2s 129us/step - loss: 3.5945e-05\n",
      "Epoch 61/100\n",
      "12174/12174 [==============================] - 2s 129us/step - loss: 3.6779e-05\n",
      "Epoch 62/100\n",
      "12174/12174 [==============================] - 2s 128us/step - loss: 3.5776e-05\n",
      "Epoch 63/100\n",
      "12174/12174 [==============================] - 2s 128us/step - loss: 3.5668e-05\n",
      "Epoch 64/100\n",
      "12174/12174 [==============================] - 2s 128us/step - loss: 3.5588e-05\n",
      "Epoch 65/100\n",
      "12174/12174 [==============================] - 2s 131us/step - loss: 3.5984e-05\n",
      "Epoch 66/100\n",
      "12174/12174 [==============================] - 2s 131us/step - loss: 3.6068e-05\n",
      "Epoch 67/100\n",
      "12174/12174 [==============================] - 2s 154us/step - loss: 3.6132e-05\n",
      "Epoch 68/100\n",
      "12174/12174 [==============================] - 2s 132us/step - loss: 3.4743e-05\n",
      "Epoch 69/100\n",
      "12174/12174 [==============================] - 2s 133us/step - loss: 3.5306e-05\n",
      "Epoch 70/100\n",
      "12174/12174 [==============================] - 2s 130us/step - loss: 3.5218e-05\n",
      "Epoch 71/100\n",
      "12174/12174 [==============================] - 2s 131us/step - loss: 3.4791e-05\n",
      "Epoch 72/100\n",
      "12174/12174 [==============================] - 2s 131us/step - loss: 3.4153e-05\n",
      "Epoch 73/100\n",
      "12174/12174 [==============================] - 2s 137us/step - loss: 3.4842e-05\n",
      "Epoch 74/100\n",
      "12174/12174 [==============================] - 2s 159us/step - loss: 3.3823e-05\n",
      "Epoch 75/100\n",
      "12174/12174 [==============================] - 2s 157us/step - loss: 3.3695e-05\n",
      "Epoch 76/100\n",
      "12174/12174 [==============================] - 2s 161us/step - loss: 3.4405e-05\n",
      "Epoch 77/100\n",
      "12174/12174 [==============================] - 2s 160us/step - loss: 3.5103e-05\n",
      "Epoch 78/100\n",
      "12174/12174 [==============================] - 2s 188us/step - loss: 3.3369e-05\n",
      "Epoch 79/100\n",
      "12174/12174 [==============================] - 2s 155us/step - loss: 3.4177e-05\n",
      "Epoch 80/100\n",
      "12174/12174 [==============================] - 2s 155us/step - loss: 3.3777e-05\n",
      "Epoch 81/100\n",
      "12174/12174 [==============================] - 2s 176us/step - loss: 3.3667e-05\n",
      "Epoch 82/100\n",
      "12174/12174 [==============================] - 2s 146us/step - loss: 3.3011e-05\n",
      "Epoch 83/100\n",
      "12174/12174 [==============================] - 2s 180us/step - loss: 3.4013e-05\n",
      "Epoch 84/100\n",
      "12174/12174 [==============================] - 2s 149us/step - loss: 3.3029e-05\n",
      "Epoch 85/100\n",
      "12174/12174 [==============================] - 2s 135us/step - loss: 3.2795e-05\n",
      "Epoch 86/100\n",
      "12174/12174 [==============================] - 2s 136us/step - loss: 3.2729e-05\n",
      "Epoch 87/100\n",
      "12174/12174 [==============================] - 2s 137us/step - loss: 3.2663e-05\n",
      "Epoch 88/100\n",
      "12174/12174 [==============================] - 2s 135us/step - loss: 3.3384e-05\n",
      "Epoch 89/100\n",
      "12174/12174 [==============================] - 2s 127us/step - loss: 3.3131e-05\n",
      "Epoch 90/100\n",
      "12174/12174 [==============================] - 2s 127us/step - loss: 3.2704e-05\n",
      "Epoch 91/100\n",
      "12174/12174 [==============================] - 2s 128us/step - loss: 3.3402e-05\n",
      "Epoch 92/100\n",
      "12174/12174 [==============================] - 2s 130us/step - loss: 3.3265e-05\n",
      "Epoch 93/100\n",
      "12174/12174 [==============================] - 2s 127us/step - loss: 3.2734e-05\n",
      "Epoch 94/100\n",
      "12174/12174 [==============================] - 2s 127us/step - loss: 3.3260e-05\n",
      "Epoch 95/100\n",
      "12174/12174 [==============================] - 2s 130us/step - loss: 3.2687e-05\n",
      "Epoch 96/100\n",
      "12174/12174 [==============================] - 2s 128us/step - loss: 3.3492e-05\n",
      "Epoch 97/100\n",
      "12174/12174 [==============================] - 2s 129us/step - loss: 3.2380e-05\n",
      "Epoch 98/100\n",
      "12174/12174 [==============================] - 2s 127us/step - loss: 3.2409e-05\n",
      "Epoch 99/100\n",
      "12174/12174 [==============================] - 2s 127us/step - loss: 3.2368e-05\n",
      "Epoch 100/100\n",
      "12174/12174 [==============================] - 2s 128us/step - loss: 3.2802e-05\n"
     ]
    },
    {
     "data": {
      "text/plain": [
       "<keras.callbacks.callbacks.History at 0x1a4a0ac790>"
      ]
     },
     "execution_count": 205,
     "metadata": {},
     "output_type": "execute_result"
    }
   ],
   "source": [
    "#build the model\n",
    "model = Sequential()\n",
    "model.add(LSTM(4, input_shape=(series, 1)))\n",
    "model.add(Dense(1))\n",
    "model.compile(loss='mse', optimizer='adam')\n",
    "#fit the model\n",
    "model.fit(trainX, trainY, epochs=100, batch_size=32)"
   ]
  },
  {
   "cell_type": "code",
   "execution_count": 206,
   "metadata": {},
   "outputs": [],
   "source": [
    "#test this model out\n",
    "trainPredictions = model.predict(trainX)\n",
    "testPredictions = model.predict(testX)\n",
    "#unscale predictions\n",
    "trainPredictions = scaler.inverse_transform(trainPredictions)\n",
    "testPredictions = scaler.inverse_transform(testPredictions)\n",
    "trainY = scaler.inverse_transform([trainY])\n",
    "testY = scaler.inverse_transform([testY])"
   ]
  },
  {
   "cell_type": "code",
   "execution_count": 207,
   "metadata": {},
   "outputs": [
    {
     "name": "stdout",
     "output_type": "stream",
     "text": [
      "Train score: %.2f rmse 59.46795394796409\n",
      "Test score: %.2f rmse 54.97647229299106\n"
     ]
    }
   ],
   "source": [
    "#lets calculate the root mean squared error\n",
    "trainScore = math.sqrt(mean_squared_error(trainY[0], trainPredictions[:, 0]))\n",
    "testScore = math.sqrt(mean_squared_error(testY[0], testPredictions[:, 0]))\n",
    "print('Train score: %.2f rmse', trainScore)\n",
    "print('Test score: %.2f rmse', testScore)"
   ]
  },
  {
   "cell_type": "code",
   "execution_count": 208,
   "metadata": {},
   "outputs": [
    {
     "data": {
      "image/png": "[encoded data removed]",
      "text/plain": [
       "<Figure size 432x288 with 1 Axes>"
      ]
     },
     "metadata": {
      "needs_background": "light"
     },
     "output_type": "display_data"
    }
   ],
   "source": [
    "#lets plot the predictions on a graph and see how well it did\n",
    "train_plot = np.empty_like(btc)\n",
    "train_plot[:,:] = np.nan\n",
    "train_plot[series:len(trainPredictions)+series, :] = trainPredictions\n",
    "\n",
    "test_plot = np.empty_like(btc)\n",
    "test_plot[:,:] = np.nan\n",
    "test_plot[len(trainPredictions)+(series*2)+1:len(btc)-1, :] = testPredictions\n",
    "\n",
    "#plot on graph\n",
    "plt.plot(scaler.inverse_transform(btc_normalized))\n",
    "plt.plot(train_plot)\n",
    "plt.plot(test_plot)\n",
    "plt.show()"
   ]
  },
  {
   "cell_type": "code",
   "execution_count": 198,
   "metadata": {},
   "outputs": [
    {
     "data": {
      "text/plain": [
       "(array([], dtype=int64), array([], dtype=int64))"
      ]
     },
     "execution_count": 198,
     "metadata": {},
     "output_type": "execute_result"
    }
   ],
   "source": [
    "np.where(np.isin(scaler.inverse_transform(btc), scaler.inverse_transform(testX[-1])))"
   ]
  },
  {
   "cell_type": "code",
   "execution_count": 210,
   "metadata": {},
   "outputs": [
    {
     "data": {
      "text/plain": [
       "array([[8907.822]], dtype=float32)"
      ]
     },
     "execution_count": 210,
     "metadata": {},
     "output_type": "execute_result"
    }
   ],
   "source": [
    "scaler.inverse_transform(model.predict(np.array([btc_normalized[-8:-1]])))"
   ]
  }
 ],
 "metadata": {
  "kernelspec": {
   "display_name": "Python 3",
   "language": "python",
   "name": "python3"
  },
  "language_info": {
   "codemirror_mode": {
    "name": "ipython",
    "version": 3
   },
   "file_extension": ".py",
   "mimetype": "text/x-python",
   "name": "python",
   "nbconvert_exporter": "python",
   "pygments_lexer": "ipython3",
   "version": "3.6.10"
  }
 },
 "nbformat": 4,
 "nbformat_minor": 2
}
